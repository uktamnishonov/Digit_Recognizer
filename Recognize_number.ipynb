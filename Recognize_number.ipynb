{
 "nbformat": 4,
 "nbformat_minor": 0,
 "metadata": {
  "colab": {
   "provenance": []
  },
  "kernelspec": {
   "name": "python3",
   "language": "python",
   "display_name": "Python 3 (ipykernel)"
  },
  "language_info": {
   "name": "python"
  }
 },
 "cells": [
  {
   "cell_type": "code",
   "execution_count": 2,
   "metadata": {
    "id": "M0nACzhnKEbw",
    "ExecuteTime": {
     "end_time": "2024-04-01T01:29:55.131550Z",
     "start_time": "2024-04-01T01:29:48.936386Z"
    }
   },
   "outputs": [
    {
     "name": "stderr",
     "output_type": "stream",
     "text": [
      "2024-04-01 10:29:50.879544: I tensorflow/core/platform/cpu_feature_guard.cc:182] This TensorFlow binary is optimized to use available CPU instructions in performance-critical operations.\n",
      "To enable the following instructions: AVX2 FMA, in other operations, rebuild TensorFlow with the appropriate compiler flags.\n"
     ]
    }
   ],
   "source": [
    "import tensorflow as tf\n",
    "from keras import layers, models"
   ]
  },
  {
   "cell_type": "code",
   "source": [
    "(train_images, train_labels), (test_images, test_labels) = tf.keras.datasets.mnist.load_data(path='mnist.npz')"
   ],
   "metadata": {
    "colab": {
     "base_uri": "https://localhost:8080/"
    },
    "id": "GHuBC7w8dKoT",
    "outputId": "8dea4ccb-6e87-40eb-fe22-348ed64a6ba2",
    "ExecuteTime": {
     "end_time": "2024-04-01T01:29:55.430702Z",
     "start_time": "2024-04-01T01:29:55.135237Z"
    }
   },
   "execution_count": 3,
   "outputs": []
  },
  {
   "cell_type": "code",
   "execution_count": 3,
   "outputs": [],
   "source": [],
   "metadata": {
    "collapsed": false,
    "ExecuteTime": {
     "end_time": "2024-04-01T01:29:55.437154Z",
     "start_time": "2024-04-01T01:29:55.431102Z"
    }
   }
  },
  {
   "cell_type": "code",
   "source": [
    "train_images = train_images.reshape(60000, 28, 28, 1).astype('float32') / 255\n",
    "test_images = test_images.reshape(10000, 28, 28, 1).astype('float32') / 255\n",
    "\n",
    "from keras.utils import to_categorical\n",
    "train_labels = to_categorical(train_labels)\n",
    "test_labels = to_categorical(test_labels)"
   ],
   "metadata": {
    "id": "_Ufyq2Rue92z",
    "ExecuteTime": {
     "end_time": "2024-04-01T01:29:55.704574Z",
     "start_time": "2024-04-01T01:29:55.436854Z"
    }
   },
   "execution_count": 4,
   "outputs": []
  },
  {
   "cell_type": "code",
   "source": [
    "model = models.Sequential()\n",
    "\n",
    "input_shape = (28,28,1)\n",
    "num_classes = 10\n",
    "\n",
    "model.add(layers.Conv2D(32, kernel_size = (3,3), activation='relu'))\n",
    "model.add(layers.MaxPooling2D(pool_size = (2,2)))\n",
    "model.add(layers.Conv2D(64, kernel_size = (3,3), activation='relu'))\n",
    "model.add(layers.MaxPooling2D(pool_size = (2,2)))\n",
    "model.add(layers.Flatten())\n",
    "model.add(layers.Dropout(0.5))\n",
    "\n",
    "model.add(layers.Dense(num_classes, activation = 'softmax'))"
   ],
   "metadata": {
    "id": "fb5-oZkXfeAS",
    "ExecuteTime": {
     "end_time": "2024-04-01T01:29:55.744604Z",
     "start_time": "2024-04-01T01:29:55.707201Z"
    }
   },
   "execution_count": 5,
   "outputs": []
  },
  {
   "cell_type": "code",
   "source": [
    "model.compile(\n",
    "    optimizer='adam',\n",
    "    loss='categorical_crossentropy',\n",
    "    metrics=['accuracy']\n",
    ")"
   ],
   "metadata": {
    "id": "zsSUHsc5gkSH",
    "ExecuteTime": {
     "end_time": "2024-04-01T01:29:56.638985Z",
     "start_time": "2024-04-01T01:29:56.617333Z"
    }
   },
   "execution_count": 6,
   "outputs": []
  },
  {
   "cell_type": "code",
   "source": [
    "# fit the model and show the validation accuracy in every epoch\n",
    "history = model.fit(train_images, train_labels, epochs=15, validation_split=0.2,batch_size=32)\n",
    "loss = history.history['loss']\n",
    "val_loss = history.history['val_loss']"
   ],
   "metadata": {
    "colab": {
     "base_uri": "https://localhost:8080/"
    },
    "id": "LXlMGv90jw2b",
    "outputId": "4f288aef-a952-45ac-9ff3-2cc8ad54580a",
    "ExecuteTime": {
     "end_time": "2024-04-01T01:35:34.709400Z",
     "start_time": "2024-04-01T01:29:57.192200Z"
    }
   },
   "execution_count": 7,
   "outputs": [
    {
     "name": "stdout",
     "output_type": "stream",
     "text": [
      "Epoch 1/15\n",
      "1500/1500 [==============================] - 23s 15ms/step - loss: 0.2382 - accuracy: 0.9269 - val_loss: 0.0733 - val_accuracy: 0.9792\n",
      "Epoch 2/15\n",
      "1500/1500 [==============================] - 22s 15ms/step - loss: 0.0881 - accuracy: 0.9732 - val_loss: 0.0533 - val_accuracy: 0.9850\n",
      "Epoch 3/15\n",
      "1500/1500 [==============================] - 22s 15ms/step - loss: 0.0686 - accuracy: 0.9785 - val_loss: 0.0471 - val_accuracy: 0.9868\n",
      "Epoch 4/15\n",
      "1500/1500 [==============================] - 22s 15ms/step - loss: 0.0559 - accuracy: 0.9825 - val_loss: 0.0442 - val_accuracy: 0.9882\n",
      "Epoch 5/15\n",
      "1500/1500 [==============================] - 22s 15ms/step - loss: 0.0496 - accuracy: 0.9839 - val_loss: 0.0398 - val_accuracy: 0.9896\n",
      "Epoch 6/15\n",
      "1500/1500 [==============================] - 22s 15ms/step - loss: 0.0460 - accuracy: 0.9850 - val_loss: 0.0395 - val_accuracy: 0.9883\n",
      "Epoch 7/15\n",
      "1500/1500 [==============================] - 22s 15ms/step - loss: 0.0412 - accuracy: 0.9865 - val_loss: 0.0369 - val_accuracy: 0.9900\n",
      "Epoch 8/15\n",
      "1500/1500 [==============================] - 22s 15ms/step - loss: 0.0393 - accuracy: 0.9875 - val_loss: 0.0377 - val_accuracy: 0.9890\n",
      "Epoch 9/15\n",
      "1500/1500 [==============================] - 22s 15ms/step - loss: 0.0360 - accuracy: 0.9881 - val_loss: 0.0349 - val_accuracy: 0.9907\n",
      "Epoch 10/15\n",
      "1500/1500 [==============================] - 22s 15ms/step - loss: 0.0345 - accuracy: 0.9887 - val_loss: 0.0351 - val_accuracy: 0.9902\n",
      "Epoch 11/15\n",
      "1500/1500 [==============================] - 22s 15ms/step - loss: 0.0316 - accuracy: 0.9895 - val_loss: 0.0309 - val_accuracy: 0.9914\n",
      "Epoch 12/15\n",
      "1500/1500 [==============================] - 22s 15ms/step - loss: 0.0300 - accuracy: 0.9901 - val_loss: 0.0307 - val_accuracy: 0.9918\n",
      "Epoch 13/15\n",
      "1500/1500 [==============================] - 25s 16ms/step - loss: 0.0293 - accuracy: 0.9904 - val_loss: 0.0302 - val_accuracy: 0.9914\n",
      "Epoch 14/15\n",
      "1500/1500 [==============================] - 23s 15ms/step - loss: 0.0270 - accuracy: 0.9905 - val_loss: 0.0314 - val_accuracy: 0.9914\n",
      "Epoch 15/15\n",
      "1500/1500 [==============================] - 23s 15ms/step - loss: 0.0267 - accuracy: 0.9906 - val_loss: 0.0302 - val_accuracy: 0.9910\n"
     ]
    }
   ]
  },
  {
   "cell_type": "code",
   "source": [
    "import matplotlib.pyplot as plt\n",
    "\n",
    "# Assuming you have the validation loss and training loss stored in variables\n",
    "# called val_loss and train_loss, respectively.\n",
    "\n",
    "# Create the plot\n",
    "plt.plot(val_loss, label='Validation Loss')\n",
    "plt.plot(loss, label='Training Loss')\n",
    "\n",
    "# Set the title and axis labels\n",
    "plt.title('Validation and Training Loss')\n",
    "plt.xlabel('Epochs')\n",
    "plt.ylabel('Loss')\n",
    "\n",
    "# Add a legend\n",
    "plt.legend()\n",
    "\n",
    "# Display the plot\n",
    "plt.show()"
   ],
   "metadata": {
    "id": "s0oPNmxLkKoZ",
    "colab": {
     "base_uri": "https://localhost:8080/"
    },
    "outputId": "94110d50-e2b4-4aa4-f46c-de7a8f03115c",
    "ExecuteTime": {
     "end_time": "2024-04-01T01:36:06.478275Z",
     "start_time": "2024-04-01T01:36:05.431504Z"
    }
   },
   "execution_count": 8,
   "outputs": [
    {
     "data": {
      "text/plain": "<Figure size 640x480 with 1 Axes>",
      "image/png": "[encoded data removed]"
     },
     "metadata": {},
     "output_type": "display_data"
    }
   ]
  },
  {
   "cell_type": "code",
   "source": [
    "import matplotlib.pyplot as plt\n",
    "#plot history \n",
    "plt.plot(history.history['accuracy'], label='accuracy')"
   ],
   "metadata": {
    "colab": {
     "base_uri": "https://localhost:8080/"
    },
    "id": "MNe8glSnXZDq",
    "outputId": "b12694f1-e4b7-4bf0-b73d-8304a4d7f5c3",
    "ExecuteTime": {
     "end_time": "2024-04-01T01:36:06.610507Z",
     "start_time": "2024-04-01T01:36:06.456695Z"
    }
   },
   "execution_count": 9,
   "outputs": [
    {
     "data": {
      "text/plain": "[<matplotlib.lines.Line2D at 0x132817ad0>]"
     },
     "execution_count": 9,
     "metadata": {},
     "output_type": "execute_result"
    },
    {
     "data": {
      "text/plain": "<Figure size 640x480 with 1 Axes>",
      "image/png": "[encoded data removed]"
     },
     "metadata": {},
     "output_type": "display_data"
    }
   ]
  },
  {
   "cell_type": "code",
   "execution_count": 10,
   "outputs": [
    {
     "name": "stdout",
     "output_type": "stream",
     "text": [
      "313/313 [==============================] - 1s 3ms/step - loss: 0.0237 - accuracy: 0.9920\n"
     ]
    },
    {
     "data": {
      "text/plain": "[0.023685360327363014, 0.9919999837875366]"
     },
     "execution_count": 10,
     "metadata": {},
     "output_type": "execute_result"
    }
   ],
   "source": [
    "model.evaluate(test_images, test_labels)"
   ],
   "metadata": {
    "collapsed": false,
    "ExecuteTime": {
     "end_time": "2024-04-01T01:36:07.640605Z",
     "start_time": "2024-04-01T01:36:06.610761Z"
    }
   }
  },
  {
   "cell_type": "code",
   "execution_count": 10,
   "outputs": [],
   "source": [],
   "metadata": {
    "collapsed": false,
    "ExecuteTime": {
     "end_time": "2024-04-01T01:36:08.819642Z",
     "start_time": "2024-04-01T01:36:08.813842Z"
    }
   }
  },
  {
   "cell_type": "code",
   "source": [
    "model.save('new_model.h5')"
   ],
   "metadata": {
    "colab": {
     "base_uri": "https://localhost:8080/"
    },
    "id": "ITe8n_lsX3IZ",
    "outputId": "bfbea2c5-904a-49bd-9445-896dd0cc08c0",
    "ExecuteTime": {
     "end_time": "2024-04-01T02:26:22.981156Z",
     "start_time": "2024-04-01T02:26:22.946934Z"
    }
   },
   "execution_count": 41,
   "outputs": [
    {
     "name": "stderr",
     "output_type": "stream",
     "text": [
      "/Users/uktamnishonov/.conda/envs/Refactored_Py_DS_ML_Bootcamp-master/lib/python3.11/site-packages/keras/src/engine/training.py:3079: UserWarning: You are saving your model as an HDF5 file via `model.save()`. This file format is considered legacy. We recommend using instead the native Keras format, e.g. `model.save('my_model.keras')`.\n",
      "  saving_api.save_model(\n"
     ]
    }
   ]
  },
  {
   "cell_type": "code",
   "source": [
    "#plot the first image of test images\n",
    "plt.imshow(test_images[0].reshape(28, 28), cmap='gray')\n"
   ],
   "metadata": {
    "id": "19L0EWFVYDL2",
    "ExecuteTime": {
     "end_time": "2024-04-01T01:50:56.954700Z",
     "start_time": "2024-04-01T01:50:56.775318Z"
    }
   },
   "execution_count": 27,
   "outputs": [
    {
     "data": {
      "text/plain": "<matplotlib.image.AxesImage at 0x163eea910>"
     },
     "execution_count": 27,
     "metadata": {},
     "output_type": "execute_result"
    },
    {
     "data": {
      "text/plain": "<Figure size 640x480 with 1 Axes>",
      "image/png": "[encoded data removed]"
     },
     "metadata": {},
     "output_type": "display_data"
    }
   ]
  },
  {
   "cell_type": "code",
   "execution_count": 34,
   "outputs": [
    {
     "name": "stdout",
     "output_type": "stream",
     "text": [
      "1/1 [==============================] - 0s 28ms/step\n"
     ]
    },
    {
     "data": {
      "text/plain": "array([[3.2523223e-10, 1.6348704e-11, 6.3533079e-08, 1.6626286e-07,\n        5.6367862e-12, 3.6182705e-13, 7.1139665e-20, 9.9999964e-01,\n        1.7171418e-10, 1.2050494e-07]], dtype=float32)"
     },
     "execution_count": 34,
     "metadata": {},
     "output_type": "execute_result"
    }
   ],
   "source": [
    "model.predict(test_images[0].reshape(1, 28, 28, 1))"
   ],
   "metadata": {
    "collapsed": false,
    "ExecuteTime": {
     "end_time": "2024-04-01T01:51:27.632852Z",
     "start_time": "2024-04-01T01:51:27.552258Z"
    }
   }
  },
  {
   "cell_type": "code",
   "execution_count": 52,
   "outputs": [
    {
     "data": {
      "text/plain": "<matplotlib.image.AxesImage at 0x132b9ccd0>"
     },
     "execution_count": 52,
     "metadata": {},
     "output_type": "execute_result"
    },
    {
     "data": {
      "text/plain": "<Figure size 640x480 with 1 Axes>",
      "image/png": "[encoded data removed]"
     },
     "metadata": {},
     "output_type": "display_data"
    }
   ],
   "source": [
    "#plot the image in images folder named test\n",
    "img = cv2.imread('captured_image.png', cv2.IMREAD_GRAYSCALE)\n",
    "img = cv2.resize(img, (28, 28))\n",
    "img = np.array(img).reshape(1, 28, 28, 1)\n",
    "img = img.astype('uint8') / 255\n",
    "plt.imshow(img.reshape(28, 28), cmap='gray')\n"
   ],
   "metadata": {
    "collapsed": false,
    "ExecuteTime": {
     "end_time": "2024-04-01T03:06:07.657023Z",
     "start_time": "2024-04-01T03:06:07.472459Z"
    }
   }
  },
  {
   "cell_type": "code",
   "execution_count": 56,
   "outputs": [
    {
     "name": "stdout",
     "output_type": "stream",
     "text": [
      "1/1 [==============================] - 0s 84ms/step\n"
     ]
    },
    {
     "data": {
      "text/plain": "array([[5.0093427e-06, 8.5530948e-04, 2.2043423e-03, 4.0682316e-01,\n        1.5063235e-03, 5.8014077e-01, 1.8571636e-10, 7.7308179e-03,\n        2.8930855e-04, 4.4504119e-04]], dtype=float32)"
     },
     "execution_count": 56,
     "metadata": {},
     "output_type": "execute_result"
    }
   ],
   "source": [
    "#predict the image\n",
    "model.predict(img)\n"
   ],
   "metadata": {
    "collapsed": false,
    "ExecuteTime": {
     "end_time": "2024-04-01T03:06:46.273734Z",
     "start_time": "2024-04-01T03:06:46.121776Z"
    }
   }
  },
  {
   "cell_type": "code",
   "execution_count": 55,
   "outputs": [],
   "source": [
    "model = tf.keras.models.load_model('new_model.h5')"
   ],
   "metadata": {
    "collapsed": false,
    "ExecuteTime": {
     "end_time": "2024-04-01T03:06:42.218624Z",
     "start_time": "2024-04-01T03:06:42.129903Z"
    }
   }
  },
  {
   "cell_type": "code",
   "execution_count": 48,
   "outputs": [],
   "source": [
    "def preprocess_image_cv2(filepath):\n",
    "    # Read the image\n",
    "    img = cv2.imread(filepath, cv2.IMREAD_GRAYSCALE)\n",
    "\n",
    "    # Resize the image to 28x28 pixels\n",
    "    img = cv2.resize(img, (28, 28))\n",
    "\n",
    "    # Invert the image colors\n",
    "    img = 255 - img\n",
    "\n",
    "    # Normalize the pixel values\n",
    "    img = img.astype('float32') / 255.0\n",
    "\n",
    "    # Reshape the image to match the input shape of the model\n",
    "    img = img.reshape(1, 28, 28, 1)\n",
    "\n",
    "    return img\n"
   ],
   "metadata": {
    "collapsed": false,
    "ExecuteTime": {
     "end_time": "2024-04-01T03:00:44.010969Z",
     "start_time": "2024-04-01T03:00:43.985005Z"
    }
   }
  },
  {
   "cell_type": "code",
   "execution_count": 49,
   "outputs": [
    {
     "name": "stdout",
     "output_type": "stream",
     "text": [
      "1/1 [==============================] - 0s 81ms/step\n",
      "[[5.2924035e-03 4.8611715e-10 5.1626664e-01 3.4993298e-02 2.9039013e-06\n",
      "  2.9521303e-03 1.8902977e-03 1.0448322e-08 3.0373403e-01 1.3486834e-01]]\n"
     ]
    }
   ],
   "source": [
    "from PIL import Image\n",
    "\n",
    "image = Image.open('captured_image.png')\n",
    "\n",
    "# Preprocess the image for prediction\n",
    "processed_image = preprocess_image_cv2('captured_image.png')\n",
    "\n",
    "# Predict the digit\n",
    "predictions = model.predict(processed_image)  # Extract predictions from the first item\n",
    "print(predictions)"
   ],
   "metadata": {
    "collapsed": false,
    "ExecuteTime": {
     "end_time": "2024-04-01T03:01:37.364521Z",
     "start_time": "2024-04-01T03:01:37.234462Z"
    }
   }
  },
  {
   "cell_type": "code",
   "execution_count": null,
   "outputs": [],
   "source": [],
   "metadata": {
    "collapsed": false
   }
  }
 ]
}
